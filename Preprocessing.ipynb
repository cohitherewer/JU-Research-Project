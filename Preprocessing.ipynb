{
 "cells": [
  {
   "cell_type": "code",
   "execution_count": 67,
   "id": "e27787ad",
   "metadata": {},
   "outputs": [],
   "source": [
    "import numpy as np\n",
    "import pandas as pd\n",
    "\n",
    "# library to upsample the classes\n",
    "from sklearn.utils import resample"
   ]
  },
  {
   "cell_type": "code",
   "execution_count": 68,
   "id": "40f0e514",
   "metadata": {},
   "outputs": [
    {
     "data": {
      "text/plain": [
       "Index(['Dilation_Average', 'Erosion_Average', 'C_Kurtosis', 'C_ Max',\n",
       "       'C_Skewness', 'C_Variance', 'D_Kurtosis', 'D_ Max', 'D_Skewness',\n",
       "       'D_Variance', 'E_Kurtosis', 'E_ Max', 'E_Skewness', 'E_Variance',\n",
       "       'O_Kurtosis', 'O_ Max', 'O_Skewness', 'O_Variance', 'Nc_D', 'Nc_E',\n",
       "       'Nmsw_D', 'Class'],\n",
       "      dtype='object')"
      ]
     },
     "execution_count": 68,
     "metadata": {},
     "output_type": "execute_result"
    }
   ],
   "source": [
    "df=pd.read_excel('Formatted_Data.xlsx')\n",
    "df.columns"
   ]
  },
  {
   "cell_type": "code",
   "execution_count": 69,
   "id": "cb515443",
   "metadata": {},
   "outputs": [],
   "source": [
    "# function to generate upsampled data\n",
    "def generateNoise(D):\n",
    "    # for that noise mean should be zero, variance is also low but not zero\n",
    "    mu=0;sigma=0.001\n",
    "    # generate the noise\n",
    "    # -1 as we need to exclude the response variable column\n",
    "    noise = np.random.normal(mu, sigma, [D.shape[0],D.shape[1]-1])\n",
    "    \n",
    "    # drop the response variable named 'Class'\n",
    "    response=D['Class']\n",
    "    D.drop(['Class'],axis=1,inplace=True)\n",
    "    D=D+noise\n",
    "    D['Class']=response\n",
    "    return D\n",
    "\n",
    "def upSampling(data,requiredSamples):\n",
    "    # upsample the data\n",
    "    upsampledData=resample(data,replace=True,n_samples=requiredSamples,random_state=123)\n",
    "    # concat with the main data\n",
    "    df_upsampled = pd.concat([data, upsampledData])\n",
    "    # generate a gaussian noise to simulate real life scenario\n",
    "    df_upsampled=generateNoise(df_upsampled) \n",
    "    return df_upsampled"
   ]
  },
  {
   "cell_type": "code",
   "execution_count": 70,
   "id": "889d2f18",
   "metadata": {},
   "outputs": [],
   "source": [
    "SampleCount=50000"
   ]
  },
  {
   "cell_type": "code",
   "execution_count": 71,
   "id": "41dba954",
   "metadata": {},
   "outputs": [
    {
     "data": {
      "text/html": [
       "<div>\n",
       "<style scoped>\n",
       "    .dataframe tbody tr th:only-of-type {\n",
       "        vertical-align: middle;\n",
       "    }\n",
       "\n",
       "    .dataframe tbody tr th {\n",
       "        vertical-align: top;\n",
       "    }\n",
       "\n",
       "    .dataframe thead th {\n",
       "        text-align: right;\n",
       "    }\n",
       "</style>\n",
       "<table border=\"1\" class=\"dataframe\">\n",
       "  <thead>\n",
       "    <tr style=\"text-align: right;\">\n",
       "      <th></th>\n",
       "      <th>Dilation_Average</th>\n",
       "      <th>Erosion_Average</th>\n",
       "      <th>C_Kurtosis</th>\n",
       "      <th>C_ Max</th>\n",
       "      <th>C_Skewness</th>\n",
       "      <th>C_Variance</th>\n",
       "      <th>D_Kurtosis</th>\n",
       "      <th>D_ Max</th>\n",
       "      <th>D_Skewness</th>\n",
       "      <th>D_Variance</th>\n",
       "      <th>...</th>\n",
       "      <th>E_Skewness</th>\n",
       "      <th>E_Variance</th>\n",
       "      <th>O_Kurtosis</th>\n",
       "      <th>O_ Max</th>\n",
       "      <th>O_Skewness</th>\n",
       "      <th>O_Variance</th>\n",
       "      <th>Nc_D</th>\n",
       "      <th>Nc_E</th>\n",
       "      <th>Nmsw_D</th>\n",
       "      <th>Class</th>\n",
       "    </tr>\n",
       "  </thead>\n",
       "  <tbody>\n",
       "    <tr>\n",
       "      <th>0</th>\n",
       "      <td>1.005025</td>\n",
       "      <td>-1.002908</td>\n",
       "      <td>1.523871</td>\n",
       "      <td>0.473403</td>\n",
       "      <td>0.000777</td>\n",
       "      <td>0.099156</td>\n",
       "      <td>1.542107</td>\n",
       "      <td>1.472998</td>\n",
       "      <td>-0.006917</td>\n",
       "      <td>0.099124</td>\n",
       "      <td>...</td>\n",
       "      <td>0.006496</td>\n",
       "      <td>0.099466</td>\n",
       "      <td>1.526059</td>\n",
       "      <td>0.472104</td>\n",
       "      <td>0.000275</td>\n",
       "      <td>0.099121</td>\n",
       "      <td>1.256700</td>\n",
       "      <td>-0.521177</td>\n",
       "      <td>101.484009</td>\n",
       "      <td>Very_Light</td>\n",
       "    </tr>\n",
       "    <tr>\n",
       "      <th>1</th>\n",
       "      <td>0.993316</td>\n",
       "      <td>-1.012023</td>\n",
       "      <td>1.524415</td>\n",
       "      <td>0.463618</td>\n",
       "      <td>-0.000230</td>\n",
       "      <td>0.100421</td>\n",
       "      <td>1.541501</td>\n",
       "      <td>1.460817</td>\n",
       "      <td>-0.006714</td>\n",
       "      <td>0.100438</td>\n",
       "      <td>...</td>\n",
       "      <td>0.008397</td>\n",
       "      <td>0.099548</td>\n",
       "      <td>1.522642</td>\n",
       "      <td>0.462198</td>\n",
       "      <td>-0.000367</td>\n",
       "      <td>0.096548</td>\n",
       "      <td>1.260661</td>\n",
       "      <td>-0.494107</td>\n",
       "      <td>101.586946</td>\n",
       "      <td>Very_Light</td>\n",
       "    </tr>\n",
       "    <tr>\n",
       "      <th>2</th>\n",
       "      <td>0.998489</td>\n",
       "      <td>-1.009219</td>\n",
       "      <td>1.525321</td>\n",
       "      <td>0.468282</td>\n",
       "      <td>0.001303</td>\n",
       "      <td>0.099240</td>\n",
       "      <td>1.541100</td>\n",
       "      <td>1.469462</td>\n",
       "      <td>-0.008148</td>\n",
       "      <td>0.099068</td>\n",
       "      <td>...</td>\n",
       "      <td>0.008137</td>\n",
       "      <td>0.100705</td>\n",
       "      <td>1.525556</td>\n",
       "      <td>0.465166</td>\n",
       "      <td>-0.001598</td>\n",
       "      <td>0.100958</td>\n",
       "      <td>1.258329</td>\n",
       "      <td>-0.505472</td>\n",
       "      <td>101.532778</td>\n",
       "      <td>Very_Light</td>\n",
       "    </tr>\n",
       "    <tr>\n",
       "      <th>3</th>\n",
       "      <td>1.000499</td>\n",
       "      <td>-1.007116</td>\n",
       "      <td>1.525339</td>\n",
       "      <td>0.469114</td>\n",
       "      <td>-0.001708</td>\n",
       "      <td>0.099181</td>\n",
       "      <td>1.540017</td>\n",
       "      <td>1.469426</td>\n",
       "      <td>-0.007310</td>\n",
       "      <td>0.100589</td>\n",
       "      <td>...</td>\n",
       "      <td>0.009040</td>\n",
       "      <td>0.100271</td>\n",
       "      <td>1.524009</td>\n",
       "      <td>0.468294</td>\n",
       "      <td>0.001420</td>\n",
       "      <td>0.100961</td>\n",
       "      <td>1.258298</td>\n",
       "      <td>-0.512631</td>\n",
       "      <td>101.513196</td>\n",
       "      <td>Very_Light</td>\n",
       "    </tr>\n",
       "    <tr>\n",
       "      <th>4</th>\n",
       "      <td>1.005222</td>\n",
       "      <td>-1.002099</td>\n",
       "      <td>1.525669</td>\n",
       "      <td>0.475433</td>\n",
       "      <td>0.000591</td>\n",
       "      <td>0.100357</td>\n",
       "      <td>1.542298</td>\n",
       "      <td>1.474034</td>\n",
       "      <td>-0.009715</td>\n",
       "      <td>0.101331</td>\n",
       "      <td>...</td>\n",
       "      <td>0.009223</td>\n",
       "      <td>0.101484</td>\n",
       "      <td>1.526413</td>\n",
       "      <td>0.472763</td>\n",
       "      <td>-0.000591</td>\n",
       "      <td>0.101906</td>\n",
       "      <td>1.256490</td>\n",
       "      <td>-0.525279</td>\n",
       "      <td>101.463403</td>\n",
       "      <td>Very_Light</td>\n",
       "    </tr>\n",
       "  </tbody>\n",
       "</table>\n",
       "<p>5 rows × 22 columns</p>\n",
       "</div>"
      ],
      "text/plain": [
       "   Dilation_Average  Erosion_Average  C_Kurtosis    C_ Max  C_Skewness  \\\n",
       "0          1.005025        -1.002908    1.523871  0.473403    0.000777   \n",
       "1          0.993316        -1.012023    1.524415  0.463618   -0.000230   \n",
       "2          0.998489        -1.009219    1.525321  0.468282    0.001303   \n",
       "3          1.000499        -1.007116    1.525339  0.469114   -0.001708   \n",
       "4          1.005222        -1.002099    1.525669  0.475433    0.000591   \n",
       "\n",
       "   C_Variance  D_Kurtosis    D_ Max  D_Skewness  D_Variance  ...  E_Skewness  \\\n",
       "0    0.099156    1.542107  1.472998   -0.006917    0.099124  ...    0.006496   \n",
       "1    0.100421    1.541501  1.460817   -0.006714    0.100438  ...    0.008397   \n",
       "2    0.099240    1.541100  1.469462   -0.008148    0.099068  ...    0.008137   \n",
       "3    0.099181    1.540017  1.469426   -0.007310    0.100589  ...    0.009040   \n",
       "4    0.100357    1.542298  1.474034   -0.009715    0.101331  ...    0.009223   \n",
       "\n",
       "   E_Variance  O_Kurtosis    O_ Max  O_Skewness  O_Variance      Nc_D  \\\n",
       "0    0.099466    1.526059  0.472104    0.000275    0.099121  1.256700   \n",
       "1    0.099548    1.522642  0.462198   -0.000367    0.096548  1.260661   \n",
       "2    0.100705    1.525556  0.465166   -0.001598    0.100958  1.258329   \n",
       "3    0.100271    1.524009  0.468294    0.001420    0.100961  1.258298   \n",
       "4    0.101484    1.526413  0.472763   -0.000591    0.101906  1.256490   \n",
       "\n",
       "       Nc_E      Nmsw_D       Class  \n",
       "0 -0.521177  101.484009  Very_Light  \n",
       "1 -0.494107  101.586946  Very_Light  \n",
       "2 -0.505472  101.532778  Very_Light  \n",
       "3 -0.512631  101.513196  Very_Light  \n",
       "4 -0.525279  101.463403  Very_Light  \n",
       "\n",
       "[5 rows x 22 columns]"
      ]
     },
     "execution_count": 71,
     "metadata": {},
     "output_type": "execute_result"
    }
   ],
   "source": [
    "df=upSampling(df,SampleCount)\n",
    "df.head()"
   ]
  },
  {
   "cell_type": "code",
   "execution_count": 72,
   "id": "ebfb3ca9",
   "metadata": {},
   "outputs": [
    {
     "data": {
      "text/plain": [
       "(50025, 22)"
      ]
     },
     "execution_count": 72,
     "metadata": {},
     "output_type": "execute_result"
    }
   ],
   "source": [
    "df.shape"
   ]
  },
  {
   "cell_type": "code",
   "execution_count": 73,
   "id": "aab793cf",
   "metadata": {},
   "outputs": [
    {
     "data": {
      "text/plain": [
       "High          10171\n",
       "Very_Light    10042\n",
       "Moderate      10014\n",
       "Light          9915\n",
       "Very_High      9883\n",
       "Name: Class, dtype: int64"
      ]
     },
     "execution_count": 73,
     "metadata": {},
     "output_type": "execute_result"
    }
   ],
   "source": [
    "# value counts for each and every class\n",
    "df.Class.value_counts()"
   ]
  },
  {
   "cell_type": "markdown",
   "id": "48b22364",
   "metadata": {},
   "source": [
    "# Remarks:"
   ]
  },
  {
   "cell_type": "markdown",
   "id": "5805ea42",
   "metadata": {},
   "source": [
    "As you had seen that the number of values for each class was too small to do any kind of ML algorithm as it will most likely to overfit any model.\n",
    "So we have upsampled the data and add some gaussian noise to simulate real life measurements.\n",
    "\n",
    "After that we have a dataset with 1 lakhs+ data with some noise."
   ]
  },
  {
   "cell_type": "code",
   "execution_count": 74,
   "id": "b9d2b8cf",
   "metadata": {},
   "outputs": [],
   "source": [
    "# create a csv file to store the upsampled data. we will apply ML algorithm on top of that"
   ]
  },
  {
   "cell_type": "code",
   "execution_count": 75,
   "id": "0c3e676a",
   "metadata": {},
   "outputs": [],
   "source": [
    "df.to_csv('upsampledData.csv',index=False)"
   ]
  },
  {
   "cell_type": "code",
   "execution_count": null,
   "id": "0d9ceaff",
   "metadata": {},
   "outputs": [],
   "source": []
  }
 ],
 "metadata": {
  "kernelspec": {
   "display_name": "Python 3 (ipykernel)",
   "language": "python",
   "name": "python3"
  },
  "language_info": {
   "codemirror_mode": {
    "name": "ipython",
    "version": 3
   },
   "file_extension": ".py",
   "mimetype": "text/x-python",
   "name": "python",
   "nbconvert_exporter": "python",
   "pygments_lexer": "ipython3",
   "version": "3.8.8"
  }
 },
 "nbformat": 4,
 "nbformat_minor": 5
}
