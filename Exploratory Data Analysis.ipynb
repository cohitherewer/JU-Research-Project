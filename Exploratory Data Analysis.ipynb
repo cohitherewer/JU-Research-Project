{
 "cells": [
  {
   "cell_type": "code",
   "execution_count": 1,
   "id": "105e0a66",
   "metadata": {},
   "outputs": [],
   "source": [
    "import numpy as np\n",
    "import pandas as pd"
   ]
  },
  {
   "cell_type": "code",
   "execution_count": 2,
   "id": "c3093a5e",
   "metadata": {},
   "outputs": [
    {
     "data": {
      "text/html": [
       "<div>\n",
       "<style scoped>\n",
       "    .dataframe tbody tr th:only-of-type {\n",
       "        vertical-align: middle;\n",
       "    }\n",
       "\n",
       "    .dataframe tbody tr th {\n",
       "        vertical-align: top;\n",
       "    }\n",
       "\n",
       "    .dataframe thead th {\n",
       "        text-align: right;\n",
       "    }\n",
       "</style>\n",
       "<table border=\"1\" class=\"dataframe\">\n",
       "  <thead>\n",
       "    <tr style=\"text-align: right;\">\n",
       "      <th></th>\n",
       "      <th>Dilation_Average</th>\n",
       "      <th>Erosion_Average</th>\n",
       "      <th>C_Kurtosis</th>\n",
       "      <th>C_ Max</th>\n",
       "      <th>C_Skewness</th>\n",
       "      <th>C_Variance</th>\n",
       "      <th>D_Kurtosis</th>\n",
       "      <th>D_ Max</th>\n",
       "      <th>D_Skewness</th>\n",
       "      <th>D_Variance</th>\n",
       "      <th>...</th>\n",
       "      <th>E_Skewness</th>\n",
       "      <th>E_Variance</th>\n",
       "      <th>O_Kurtosis</th>\n",
       "      <th>O_ Max</th>\n",
       "      <th>O_Skewness</th>\n",
       "      <th>O_Variance</th>\n",
       "      <th>Nc_D</th>\n",
       "      <th>Nc_E</th>\n",
       "      <th>Nmsw_D</th>\n",
       "      <th>Class</th>\n",
       "    </tr>\n",
       "  </thead>\n",
       "  <tbody>\n",
       "    <tr>\n",
       "      <th>0</th>\n",
       "      <td>1.003223</td>\n",
       "      <td>-1.003223</td>\n",
       "      <td>1.525407</td>\n",
       "      <td>0.472831</td>\n",
       "      <td>0.000100</td>\n",
       "      <td>0.100024</td>\n",
       "      <td>1.542018</td>\n",
       "      <td>1.472831</td>\n",
       "      <td>-0.008037</td>\n",
       "      <td>0.100279</td>\n",
       "      <td>...</td>\n",
       "      <td>0.008037</td>\n",
       "      <td>0.100279</td>\n",
       "      <td>1.525407</td>\n",
       "      <td>0.471576</td>\n",
       "      <td>-0.000100</td>\n",
       "      <td>0.100024</td>\n",
       "      <td>1.257324</td>\n",
       "      <td>-0.519413</td>\n",
       "      <td>101.482714</td>\n",
       "      <td>Very_Light</td>\n",
       "    </tr>\n",
       "    <tr>\n",
       "      <th>1</th>\n",
       "      <td>0.993225</td>\n",
       "      <td>-1.013220</td>\n",
       "      <td>1.525406</td>\n",
       "      <td>0.462831</td>\n",
       "      <td>0.000054</td>\n",
       "      <td>0.100024</td>\n",
       "      <td>1.541202</td>\n",
       "      <td>1.462831</td>\n",
       "      <td>-0.007831</td>\n",
       "      <td>0.100274</td>\n",
       "      <td>...</td>\n",
       "      <td>0.008248</td>\n",
       "      <td>0.100284</td>\n",
       "      <td>1.525406</td>\n",
       "      <td>0.461576</td>\n",
       "      <td>-0.000146</td>\n",
       "      <td>0.100024</td>\n",
       "      <td>1.259912</td>\n",
       "      <td>-0.494549</td>\n",
       "      <td>101.587092</td>\n",
       "      <td>Very_Light</td>\n",
       "    </tr>\n",
       "    <tr>\n",
       "      <th>2</th>\n",
       "      <td>0.998224</td>\n",
       "      <td>-1.008222</td>\n",
       "      <td>1.525407</td>\n",
       "      <td>0.467831</td>\n",
       "      <td>0.000077</td>\n",
       "      <td>0.100024</td>\n",
       "      <td>1.541607</td>\n",
       "      <td>1.467831</td>\n",
       "      <td>-0.007933</td>\n",
       "      <td>0.100277</td>\n",
       "      <td>...</td>\n",
       "      <td>0.008142</td>\n",
       "      <td>0.100281</td>\n",
       "      <td>1.525407</td>\n",
       "      <td>0.466576</td>\n",
       "      <td>-0.000123</td>\n",
       "      <td>0.100024</td>\n",
       "      <td>1.258611</td>\n",
       "      <td>-0.506919</td>\n",
       "      <td>101.534655</td>\n",
       "      <td>Very_Light</td>\n",
       "    </tr>\n",
       "    <tr>\n",
       "      <th>3</th>\n",
       "      <td>1.000224</td>\n",
       "      <td>-1.006222</td>\n",
       "      <td>1.525407</td>\n",
       "      <td>0.469831</td>\n",
       "      <td>0.000086</td>\n",
       "      <td>0.100024</td>\n",
       "      <td>1.541771</td>\n",
       "      <td>1.469831</td>\n",
       "      <td>-0.007975</td>\n",
       "      <td>0.100277</td>\n",
       "      <td>...</td>\n",
       "      <td>0.008100</td>\n",
       "      <td>0.100280</td>\n",
       "      <td>1.525407</td>\n",
       "      <td>0.468576</td>\n",
       "      <td>-0.000114</td>\n",
       "      <td>0.100024</td>\n",
       "      <td>1.258095</td>\n",
       "      <td>-0.511902</td>\n",
       "      <td>101.513820</td>\n",
       "      <td>Very_Light</td>\n",
       "    </tr>\n",
       "    <tr>\n",
       "      <th>4</th>\n",
       "      <td>1.005222</td>\n",
       "      <td>-1.001223</td>\n",
       "      <td>1.525407</td>\n",
       "      <td>0.474831</td>\n",
       "      <td>0.000109</td>\n",
       "      <td>0.100024</td>\n",
       "      <td>1.542185</td>\n",
       "      <td>1.474831</td>\n",
       "      <td>-0.008079</td>\n",
       "      <td>0.100280</td>\n",
       "      <td>...</td>\n",
       "      <td>0.007995</td>\n",
       "      <td>0.100278</td>\n",
       "      <td>1.525407</td>\n",
       "      <td>0.473576</td>\n",
       "      <td>-0.000091</td>\n",
       "      <td>0.100024</td>\n",
       "      <td>1.256813</td>\n",
       "      <td>-0.524445</td>\n",
       "      <td>101.462075</td>\n",
       "      <td>Very_Light</td>\n",
       "    </tr>\n",
       "  </tbody>\n",
       "</table>\n",
       "<p>5 rows × 22 columns</p>\n",
       "</div>"
      ],
      "text/plain": [
       "   Dilation_Average  Erosion_Average  C_Kurtosis    C_ Max  C_Skewness  \\\n",
       "0          1.003223        -1.003223    1.525407  0.472831    0.000100   \n",
       "1          0.993225        -1.013220    1.525406  0.462831    0.000054   \n",
       "2          0.998224        -1.008222    1.525407  0.467831    0.000077   \n",
       "3          1.000224        -1.006222    1.525407  0.469831    0.000086   \n",
       "4          1.005222        -1.001223    1.525407  0.474831    0.000109   \n",
       "\n",
       "   C_Variance  D_Kurtosis    D_ Max  D_Skewness  D_Variance  ...  E_Skewness  \\\n",
       "0    0.100024    1.542018  1.472831   -0.008037    0.100279  ...    0.008037   \n",
       "1    0.100024    1.541202  1.462831   -0.007831    0.100274  ...    0.008248   \n",
       "2    0.100024    1.541607  1.467831   -0.007933    0.100277  ...    0.008142   \n",
       "3    0.100024    1.541771  1.469831   -0.007975    0.100277  ...    0.008100   \n",
       "4    0.100024    1.542185  1.474831   -0.008079    0.100280  ...    0.007995   \n",
       "\n",
       "   E_Variance  O_Kurtosis    O_ Max  O_Skewness  O_Variance      Nc_D  \\\n",
       "0    0.100279    1.525407  0.471576   -0.000100    0.100024  1.257324   \n",
       "1    0.100284    1.525406  0.461576   -0.000146    0.100024  1.259912   \n",
       "2    0.100281    1.525407  0.466576   -0.000123    0.100024  1.258611   \n",
       "3    0.100280    1.525407  0.468576   -0.000114    0.100024  1.258095   \n",
       "4    0.100278    1.525407  0.473576   -0.000091    0.100024  1.256813   \n",
       "\n",
       "       Nc_E      Nmsw_D       Class  \n",
       "0 -0.519413  101.482714  Very_Light  \n",
       "1 -0.494549  101.587092  Very_Light  \n",
       "2 -0.506919  101.534655  Very_Light  \n",
       "3 -0.511902  101.513820  Very_Light  \n",
       "4 -0.524445  101.462075  Very_Light  \n",
       "\n",
       "[5 rows x 22 columns]"
      ]
     },
     "execution_count": 2,
     "metadata": {},
     "output_type": "execute_result"
    }
   ],
   "source": [
    "# reading the data\n",
    "df=pd.read_excel('Formatted_Data.xlsx')\n",
    "df.head()"
   ]
  },
  {
   "cell_type": "code",
   "execution_count": 3,
   "id": "292e4616",
   "metadata": {},
   "outputs": [
    {
     "data": {
      "text/plain": [
       "(25, 22)"
      ]
     },
     "execution_count": 3,
     "metadata": {},
     "output_type": "execute_result"
    }
   ],
   "source": [
    "df.shape"
   ]
  },
  {
   "cell_type": "markdown",
   "id": "0d7afaba",
   "metadata": {},
   "source": [
    "There are 25 samples and Number of features is 21. One response variable. Total 21 Columns"
   ]
  },
  {
   "cell_type": "code",
   "execution_count": 6,
   "id": "47a95e55",
   "metadata": {},
   "outputs": [
    {
     "data": {
      "text/plain": [
       "count             25\n",
       "unique             5\n",
       "top       Very_Light\n",
       "freq               5\n",
       "Name: Class, dtype: object"
      ]
     },
     "execution_count": 6,
     "metadata": {},
     "output_type": "execute_result"
    }
   ],
   "source": [
    "df.Class.describe()"
   ]
  },
  {
   "cell_type": "code",
   "execution_count": 7,
   "id": "626cecf7",
   "metadata": {},
   "outputs": [
    {
     "data": {
      "text/plain": [
       "array(['Very_Light', 'Light', 'Moderate', 'High', 'Very_High'],\n",
       "      dtype=object)"
      ]
     },
     "execution_count": 7,
     "metadata": {},
     "output_type": "execute_result"
    }
   ],
   "source": [
    "df.Class.unique()"
   ]
  },
  {
   "cell_type": "markdown",
   "id": "e29bce7b",
   "metadata": {},
   "source": [
    "For Response Varibale:\n",
    "    1. Number of Unique Values 5: Very Light, Light, Moderate, High, Very High\n",
    "    2. Every Value is repeated 5 times"
   ]
  },
  {
   "cell_type": "markdown",
   "id": "beacacb7",
   "metadata": {},
   "source": [
    "# Basic Conclusion"
   ]
  },
  {
   "cell_type": "markdown",
   "id": "c1e1e520",
   "metadata": {},
   "source": [
    "1. Number of Samples is Pretty Low and Dimention is pretty high. So this model will tend to overfit with any ML model. So its best to increase the number of samples with little bit of noise. We can replicate those results with a method called upsampling.\n",
    "2. The scale is not good. So we need to change the scale for scale dependent Ml algorithms like KNN etc."
   ]
  },
  {
   "cell_type": "code",
   "execution_count": null,
   "id": "98f64d83",
   "metadata": {},
   "outputs": [],
   "source": []
  }
 ],
 "metadata": {
  "kernelspec": {
   "display_name": "Python 3 (ipykernel)",
   "language": "python",
   "name": "python3"
  },
  "language_info": {
   "codemirror_mode": {
    "name": "ipython",
    "version": 3
   },
   "file_extension": ".py",
   "mimetype": "text/x-python",
   "name": "python",
   "nbconvert_exporter": "python",
   "pygments_lexer": "ipython3",
   "version": "3.8.8"
  }
 },
 "nbformat": 4,
 "nbformat_minor": 5
}
